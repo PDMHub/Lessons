{
 "cells": [
  {
   "cell_type": "code",
   "execution_count": 1,
   "metadata": {},
   "outputs": [
    {
     "name": "stdout",
     "output_type": "stream",
     "text": [
      "A matrix = [[1, 1, 1, 1, 1, 1, 1, 1, 1], [1, 2, 4, 8, 16, 32, 64, 128, 256], [1, 4, 16, 64, 256, 1024, 4096, 16384, 65536], [1, 6, 36, 216, 1296, 7776, 46656, 279936, 1679616], [1, 8, 64, 512, 4096, 32768, 262144, 2097152, 16777216], [1, 10, 100, 1000, 10000, 100000, 1000000, 10000000, 100000000], [1, 12, 144, 1728, 20736, 248832, 2985984, 35831808, 429981696], [1, 14, 196, 2744, 38416, 537824, 7529536, 105413504, 1475789056], [1, 15, 225, 3375, 50625, 759375, 11390625, 170859375, 2562890625]]\n",
      "b vector = [3.25221687 2.31503384 1.74684595 1.94722128 2.31617016 2.50541641\n",
      " 2.2550105  1.36300335 0.63522142]\n"
     ]
    },
    {
     "data": {
      "text/plain": [
       "[<matplotlib.lines.Line2D at 0x212997137f0>]"
      ]
     },
     "execution_count": 1,
     "metadata": {},
     "output_type": "execute_result"
    },
    {
     "data": {
      "image/png": "[encoded data removed]",
      "text/plain": [
       "<Figure size 432x288 with 1 Axes>"
      ]
     },
     "metadata": {
      "needs_background": "light"
     },
     "output_type": "display_data"
    }
   ],
   "source": [
    "%matplotlib inline\n",
    "import numpy as np\n",
    "from scipy import linalg\n",
    "import math\n",
    "import re\n",
    "import matplotlib.pyplot as plt\n",
    "\n",
    "\n",
    "def make_b_vector(x_values):\n",
    "    \"\"\"\n",
    "    Функция, принимающая введенные пользователем в консоли данные и превращающая их\n",
    "    в в вектор b из уравнения Ax = b\n",
    "    :param x_values: введенные пользователем в консоли данные\n",
    "    :return: вектор b из уравнения Ax = b\n",
    "    \"\"\"\n",
    "    y_values = []\n",
    "    for xValue in x_values:\n",
    "        y = math.sin(xValue / 5) * math.exp(xValue / 10) + 5 * math.exp(-xValue / 2)\n",
    "        y_values.append(y)\n",
    "    return y_values\n",
    "\n",
    "\n",
    "def raise_items_to_power(lst: list):\n",
    "    \"\"\"\n",
    "    Функция, возводящая в соотвествующую степень известные знаения иксов для какого-то n-ного уравнения из системы\n",
    "    :param lst: вектор иксов, которые нужно возвести в соответствующие степени\n",
    "    :return: этот же вектор иксов, но уже с возведенными в соотвествующую степень иксами\n",
    "    \"\"\"\n",
    "    # начиная со 3-го члена в уравнении w0 + w1x + w2x^2 + w3x^3 + ... = f(x) иксы возводятся в степень\n",
    "    # power, которая по сути равна индексу элемента в списке (начиная со 2-го элемента, с учетом нумерации с нуля)\n",
    "    power = 2\n",
    "    if len(lst) < 3:\n",
    "        return lst\n",
    "    else:\n",
    "        for i in range(2, len(lst)):\n",
    "            lst[i] = lst[i] ** power\n",
    "            power += 1\n",
    "        return lst\n",
    "\n",
    "\n",
    "def make_a_matrix(lst: list):\n",
    "    \"\"\"\n",
    "    Функция, создающая матрицу А из уравнения Ax = b\n",
    "    в том виде, в котором ее ожидает функция scipy.linalg.solve(A,b)\n",
    "    :param lst: список известных значений икс, которые пользователь ввел в консоли\n",
    "    :return: матрица А из уравнения Ax = b\n",
    "    \"\"\"\n",
    "    matrix = []\n",
    "    for item in lst:\n",
    "        # [item]*(len(lst)-1) - множим одинаковые значения в списке\n",
    "        vector = [1] + [item]*(len(lst)-1)\n",
    "        matrix.append(raise_items_to_power(vector))\n",
    "    return matrix\n",
    "\n",
    "\n",
    "x_values_input = \"1 2 4  6 8 10 12 14 15\"\n",
    "\n",
    "x_values_list = [int(x_i) for x_i in re.split('[\\s+]', x_values_input.lower()) if x_i]\n",
    "a_matrix = make_a_matrix(x_values_list)\n",
    "bVector = np.array(make_b_vector(x_values_list))\n",
    "\n",
    "print('A matrix = ' + str(a_matrix))\n",
    "print('b vector = ' + str(bVector))\n",
    "\n",
    "answer1 = linalg.solve(a_matrix, bVector)\n",
    "\n",
    "plt.plot(x_values_list, bVector)"
   ]
  }
 ],
 "metadata": {
  "kernelspec": {
   "display_name": "Python 3",
   "language": "python",
   "name": "python3"
  },
  "language_info": {
   "codemirror_mode": {
    "name": "ipython",
    "version": 3
   },
   "file_extension": ".py",
   "mimetype": "text/x-python",
   "name": "python",
   "nbconvert_exporter": "python",
   "pygments_lexer": "ipython3",
   "version": "3.7.0"
  }
 },
 "nbformat": 4,
 "nbformat_minor": 1
}
